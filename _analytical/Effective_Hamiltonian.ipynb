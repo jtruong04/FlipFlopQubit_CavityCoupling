{
 "nbformat": 4,
 "nbformat_minor": 2,
 "metadata": {
  "language_info": {
   "name": "python",
   "codemirror_mode": {
    "name": "ipython",
    "version": 3
   },
   "version": "3.6.9-final"
  },
  "orig_nbformat": 2,
  "file_extension": ".py",
  "mimetype": "text/x-python",
  "name": "python",
  "npconvert_exporter": "python",
  "pygments_lexer": "ipython3",
  "version": 3,
  "kernelspec": {
   "name": "python36964bit9e00db2079e349e6ac1e9ee390a36587",
   "display_name": "Python 3.6.9 64-bit"
  }
 },
 "cells": [
  {
   "cell_type": "markdown",
   "execution_count": null,
   "metadata": {},
   "outputs": [],
   "source": [
    "# Flip-Flop Qubit Coupling Mediated By Microwave Cavity\n",
    "In this research work, we seek to compute the effective coupling between flip-flop qubits via a long microwave cavity. This is motivated by the fact that we want to build large scale quantum computing architectures but are currently restricted by the range at which we can couple spin qubits. Currently, spin coupling is done via the exchange coupling, which requires wavefunction overlap. What we want is to couple spins at distances much larger than that, in the order of hundred of nanometers, which is possible via mocrowave cavity.\n",
    "\n",
    "In order to do so, we couple the spins to the donor charge qubit. The charge qubits form electric dipoles which can couple to photons in the cavity."
   ]
  },
  {
   "cell_type": "code",
   "execution_count": null,
   "metadata": {},
   "outputs": [],
   "source": [
    "# Import necessary Python libraries\n",
    "from sympy import *\n",
    "from sympy.physics.quantum import Ket, Bra, Dagger, HBar, Operator, Commutator, TensorProduct\n",
    "from sympy.physics.paulialgebra import Pauli, evaluate_pauli_product\n",
    "from sympy.matrices import Matrix, diag,eye, Identity\n",
    "init_printing(scale = 3)"
   ]
  },
  {
   "cell_type": "markdown",
   "execution_count": null,
   "metadata": {},
   "outputs": [],
   "source": [
    "## Hamiltonian\n",
    "We will first start with a single flip-flop qubit and a single cavity mode. In addition, we only consider the vacuum and singly occupied photon state. Later on, we will introduce the second flip-flop qubit and then consider more photons in the cavity.\n",
    "\n",
    "For now, our Hamiltonian is :\n",
    "$$\n",
    "\\newcommand{ket}[1]{\\left|#1\\right\\rangle}\n",
    "\\newcommand{bra}[1]{\\left\\langle#1\\right|}\n",
    "H = \\hbar \\omega_c a^\\dagger a + \\sum_j E_j \\ket{j}\\bra{j} + \\frac{1}{2}g_c(a+a^\\dagger)(1+Z)\n",
    "$$\n",
    "where $Z$ is defined as : \n",
    "$$\n",
    "Z = \\sum_{jk} z_{jk}\\sigma_j\\tau_j \n",
    "$$\n",
    "We use a dressed flip-flop qubit so the $\\sigma$ *primarily* affect the charge qubit and the $\\tau$ primarily affect the spin states. The $a$ ($a^\\dagger$) is the annihilation (creation) operator for the photon, $g_c$ is the coupling strength between the flip-flop qubit and the cavity and $\\omega_c$ is the cavity energy."
   ]
  },
  {
   "cell_type": "code",
   "execution_count": null,
   "metadata": {},
   "outputs": [],
   "source": [
    "# Initialize all of our symbols\n",
    "hbar=symbols('\\hbar')\n",
    "wc=symbols('\\omega_c')\n",
    "a=MatrixSymbol('a',2,2)\n",
    "gc=symbols('g_c')\n",
    "E0,E1,E2,E3=symbols('E_0 E_1 E_2 E_3')\n",
    "s0=Matrix([[1,0],[0,1]])\n",
    "s1=Matrix([[0,1],[1,0]])\n",
    "s2=Matrix([[0,-I],[I,0]])\n",
    "s3=Matrix([[1,0],[0,-1]])\n",
    "z01,z03,z10,z11,z13,z22, z30,z31,z33 = symbols('z_01 z_03 z_10 z_11 z_13 z_22 z_30 z_31 z_33')\n",
    "a=Matrix([[0,1],[0,0]])"
   ]
  },
  {
   "cell_type": "code",
   "execution_count": null,
   "metadata": {},
   "outputs": [],
   "source": [
    "# Build our matrices\n",
    "H_ff = diag(E0,E1,E2,E3)\n",
    "Z=z03*TensorProduct(eye(2),s3) + z10*TensorProduct(s1,eye(2)) + z30*TensorProduct(s3,eye(2)) + z31*TensorProduct(s3,s1) + z33*TensorProduct(s3,s3)\n",
    "Htotal = hbar*wc*TensorProduct(Dagger(a)*a,eye(4)) + TensorProduct(eye(2),H_ff) + gc*TensorProduct(a+Dagger(a),eye(4)+Z)/2\n",
    "Htotal"
   ]
  },
  {
   "cell_type": "code",
   "execution_count": null,
   "metadata": {},
   "outputs": [],
   "source": []
  }
 ]
}